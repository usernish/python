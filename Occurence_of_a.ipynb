{
  "nbformat": 4,
  "nbformat_minor": 0,
  "metadata": {
    "colab": {
      "provenance": [],
      "include_colab_link": true
    },
    "kernelspec": {
      "name": "python3",
      "display_name": "Python 3"
    },
    "language_info": {
      "name": "python"
    }
  },
  "cells": [
    {
      "cell_type": "markdown",
      "metadata": {
        "id": "view-in-github",
        "colab_type": "text"
      },
      "source": [
        "<a href=\"https://colab.research.google.com/github/usernish/python/blob/main/Occurence_of_a.ipynb\" target=\"_parent\"><img src=\"https://colab.research.google.com/assets/colab-badge.svg\" alt=\"Open In Colab\"/></a>"
      ]
    },
    {
      "cell_type": "code",
      "execution_count": null,
      "metadata": {
        "colab": {
          "base_uri": "https://localhost:8080/"
        },
        "id": "fDhyAN1NHB3e",
        "outputId": "b8111d8a-7163-4778-808c-9400d86e1a8a"
      },
      "outputs": [
        {
          "output_type": "stream",
          "name": "stdout",
          "text": [
            "Enter a Limit3\n",
            "Enter a name : iam\n",
            "Enter a name : Ananda\n",
            "Enter a name : krishnan\n",
            "List is:  ['iam', 'Ananda', 'krishnan']\n",
            "The total number of 'a' in the list is:  4\n"
          ]
        }
      ],
      "source": [
        "list1 = []\n",
        "count=0\n",
        "n=int(input(\"Enter a Limit\"))\n",
        "i=0\n",
        "while i<n:\n",
        "  i=i+1\n",
        "  inp = input(\"Enter a name : \")\n",
        "  list1.append(inp)\n",
        "print(\"List is: \",list1)\n",
        "for name in list1:\n",
        "  if 'a' in name:\n",
        "    count=count+name.count('a')\n",
        "print(\"The total number of \\'a\\' in the list is: \",count)  "
      ]
    }
  ]
}