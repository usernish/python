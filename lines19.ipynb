{
  "nbformat": 4,
  "nbformat_minor": 0,
  "metadata": {
    "colab": {
      "provenance": [],
      "authorship_tag": "ABX9TyObHW3liDkKyoU2VKId3lba",
      "include_colab_link": true
    },
    "kernelspec": {
      "name": "python3",
      "display_name": "Python 3"
    },
    "language_info": {
      "name": "python"
    }
  },
  "cells": [
    {
      "cell_type": "markdown",
      "metadata": {
        "id": "view-in-github",
        "colab_type": "text"
      },
      "source": [
        "<a href=\"https://colab.research.google.com/github/usernish/python/blob/main/lines19.ipynb\" target=\"_parent\"><img src=\"https://colab.research.google.com/assets/colab-badge.svg\" alt=\"Open In Colab\"/></a>"
      ]
    },
    {
      "cell_type": "code",
      "execution_count": 1,
      "metadata": {
        "colab": {
          "base_uri": "https://localhost:8080/"
        },
        "id": "p0ibqStg3Qnh",
        "outputId": "0f0dea42-30d4-4471-e8f9-71cfeed3158d"
      },
      "outputs": [
        {
          "output_type": "stream",
          "name": "stdout",
          "text": [
            "Line1:Python\n",
            "Line2:programming\n",
            "Line3:Language\n"
          ]
        }
      ],
      "source": [
        "L=[\"Python \\n\",\"programming\\n\",\"Language\\n\"]\n",
        "file1=open('myfile.txt','w')\n",
        "file1.writelines(L)\n",
        "file1.close()\n",
        "file1=open('myfile.txt','r')\n",
        "Lines=file1.readlines()\n",
        "count=0\n",
        "for line in Lines:\n",
        "    count+=1\n",
        "    print(\"Line{}:{}\".format(count,line.strip()))"
      ]
    }
  ]
}