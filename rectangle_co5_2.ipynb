{
  "nbformat": 4,
  "nbformat_minor": 0,
  "metadata": {
    "colab": {
      "provenance": [],
      "authorship_tag": "ABX9TyOJ9pLFtzJ9oEKgu52W7VX2",
      "include_colab_link": true
    },
    "kernelspec": {
      "name": "python3",
      "display_name": "Python 3"
    },
    "language_info": {
      "name": "python"
    }
  },
  "cells": [
    {
      "cell_type": "markdown",
      "metadata": {
        "id": "view-in-github",
        "colab_type": "text"
      },
      "source": [
        "<a href=\"https://colab.research.google.com/github/usernish/python/blob/main/rectangle_co5_2.ipynb\" target=\"_parent\"><img src=\"https://colab.research.google.com/assets/colab-badge.svg\" alt=\"Open In Colab\"/></a>"
      ]
    },
    {
      "cell_type": "code",
      "execution_count": null,
      "metadata": {
        "id": "GENN8bhUd5pk"
      },
      "outputs": [],
      "source": [
        "class Rectangle:\n",
        "    area=0\n",
        "    def __init__(self,a,b):\n",
        "        self.a=a\n",
        "        self.b=b\n",
        "    def calc_area(self):\n",
        "        self.area=self.a*self.b\n",
        "        print(\"Area is:\",self.area)\n",
        "    def __lt__(self,second):\n",
        "        if self.area<second.area:\n",
        "            return True\n",
        "        else:\n",
        "            return false\n",
        "length1=int(input(\"enter length of rectangle 1:\"))\n",
        "width1=int(input(\"enter width of rectangle 1:\"))\n",
        "length2=int(input(\"enter length of rectangle 2:\"))\n",
        "width2=int(input(\"enter width of rectangle 2:\"))\n",
        "obj1=rectangle(length1,width1)\n",
        "obj2=rectangle(length2,width2) \n",
        "obj1.calc_area()\n",
        "obj2.calc_area()\n",
        "if obj1 < obj2 :\n",
        "    print(\"rectangle 2 is large\")\n",
        "else:\n",
        "    print(\"rectangle 1 is large or both are same\")        \n",
        "           \n",
        "      "
      ]
    }
  ]
}