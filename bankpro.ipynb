{
  "nbformat": 4,
  "nbformat_minor": 0,
  "metadata": {
    "colab": {
      "provenance": [],
      "authorship_tag": "ABX9TyOMaBCW+xBkida7t8kSQibd",
      "include_colab_link": true
    },
    "kernelspec": {
      "name": "python3",
      "display_name": "Python 3"
    },
    "language_info": {
      "name": "python"
    }
  },
  "cells": [
    {
      "cell_type": "markdown",
      "metadata": {
        "id": "view-in-github",
        "colab_type": "text"
      },
      "source": [
        "<a href=\"https://colab.research.google.com/github/usernish/python/blob/main/bankpro.ipynb\" target=\"_parent\"><img src=\"https://colab.research.google.com/assets/colab-badge.svg\" alt=\"Open In Colab\"/></a>"
      ]
    },
    {
      "cell_type": "code",
      "execution_count": null,
      "metadata": {
        "colab": {
          "base_uri": "https://localhost:8080/"
        },
        "id": "5rn1MRI3lHxi",
        "outputId": "7bd4f260-d7fa-4866-ec0f-ad373d5cd51c"
      },
      "outputs": [
        {
          "output_type": "stream",
          "name": "stdout",
          "text": [
            "enter account number234567\n",
            "enter namenishad\n",
            "choose account type:\n",
            "1.current \n",
            "2.savings2\n",
            "name: nishad \t]t account no: 234567 \t\t balance: 0 \t\t acc: savings\n"
          ]
        }
      ],
      "source": [
        "class Account:\n",
        "    def __init__(self,acc,name,type):\n",
        "        self.balance = 0\n",
        "        self.acc = acc\n",
        "        self.name = name\n",
        "       \n",
        "        if(type == 1):\n",
        "            self.type = \"current\"\n",
        "        else:\n",
        "            self.type = \"savings\"\n",
        "           \n",
        "    def deposit(self):\n",
        "        amount = float(input(\"enter amountto be deposited:\"));\n",
        "        self.balance += amount\n",
        "       \n",
        "    def withdraw(self):\n",
        "        amount = float(input(\"enter amount to be withdraw\"))\n",
        "        if(self.balance < amount):\n",
        "            print(\"insufficient balance\")\n",
        "        else:\n",
        "            self.balance -= amount\n",
        "           \n",
        "    def display(self):\n",
        "        print(\"name:\",self.name,\"\\t]t account no:\",self.acc,\"\\t\\t balance:\",self.balance,\"\\t\\t acc:\",self.type)\n",
        "       \n",
        "acc = input(\"enter account number\")\n",
        "name = input(\"enter name\")\n",
        "type = input(\"choose account type:\\n1.current \\n2.savings\")\n",
        "obj = Account(acc,name,type)\n",
        "while True:\n",
        "    obj.display()\n",
        "    ch = int(input(\"\\n1.deposit \\n2.withdraw \\n3.exit\"))\n",
        "    if (ch == 1):\n",
        "        obj.deposit()\n",
        "    elif (ch == 2):\n",
        "        obj.withdraw()\n",
        "    elif(ch == 3):\n",
        "        break\n",
        "    else:\n",
        "        print(\"invalid entry\")\n"
      ]
    }
  ]
}