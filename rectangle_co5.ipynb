{
  "nbformat": 4,
  "nbformat_minor": 0,
  "metadata": {
    "colab": {
      "provenance": [],
      "authorship_tag": "ABX9TyOx3LxNf7+fMdIrMgwTvq8O",
      "include_colab_link": true
    },
    "kernelspec": {
      "name": "python3",
      "display_name": "Python 3"
    },
    "language_info": {
      "name": "python"
    }
  },
  "cells": [
    {
      "cell_type": "markdown",
      "metadata": {
        "id": "view-in-github",
        "colab_type": "text"
      },
      "source": [
        "<a href=\"https://colab.research.google.com/github/usernish/python/blob/main/rectangle_co5.ipynb\" target=\"_parent\"><img src=\"https://colab.research.google.com/assets/colab-badge.svg\" alt=\"Open In Colab\"/></a>"
      ]
    },
    {
      "cell_type": "code",
      "execution_count": null,
      "metadata": {
        "id": "ngga_vvuYF8u"
      },
      "outputs": [],
      "source": [
        "class Rectangle:\n",
        "    def __init__(self):\n",
        "        self.l=float (input(\"enter length\"))\n",
        "        self.b=float (input(\"enter breadth \"))\n",
        "    def area(self):\n",
        "        self.ar=self.l*self.b\n",
        "        print(\"Area=\",self.ar)\n",
        "    def perim(self):\n",
        "        self.per=2*(self.l+self.b)\n",
        "        print(\"perimeter =\",self.per)\n",
        "print(\"Rectangle1:\")\n",
        "r1=Rectangle();\n",
        "r1.area()\n",
        "r1.perim()\n",
        "print(\"Rectangle2:\")\n",
        "r2=Rectangle();\n",
        "r2.area()\n",
        "R2.perim()\n",
        "if(r1.r2>r2.ar):\n",
        "    print(\"Rectangle 1 has greater area\")\n",
        "elif(r1.ae==r2.ar):\n",
        "    print(\"Rectangles have equal area\")\n",
        "else :\n",
        "    print(\"Rectangle2 has greater area\")"
      ]
    }
  ]
}