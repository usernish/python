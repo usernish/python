{
  "nbformat": 4,
  "nbformat_minor": 0,
  "metadata": {
    "colab": {
      "provenance": [],
      "include_colab_link": true
    },
    "kernelspec": {
      "name": "python3",
      "display_name": "Python 3"
    },
    "language_info": {
      "name": "python"
    }
  },
  "cells": [
    {
      "cell_type": "markdown",
      "metadata": {
        "id": "view-in-github",
        "colab_type": "text"
      },
      "source": [
        "<a href=\"https://colab.research.google.com/github/usernish/python/blob/main/ingLy.ipynb\" target=\"_parent\"><img src=\"https://colab.research.google.com/assets/colab-badge.svg\" alt=\"Open In Colab\"/></a>"
      ]
    },
    {
      "cell_type": "code",
      "execution_count": null,
      "metadata": {
        "colab": {
          "base_uri": "https://localhost:8080/"
        },
        "id": "d8L9gzEqn8jn",
        "outputId": "2d001e92-3e07-4c67-ca56-7945f525d076"
      },
      "outputs": [
        {
          "output_type": "stream",
          "name": "stdout",
          "text": [
            "ab\n",
            "abcing\n",
            "stringly\n"
          ]
        }
      ],
      "source": [
        "# Add ‘ing’ at the end of a given string.\n",
        "#If it already ends with ‘ing’, then add ‘ly’\n",
        "def add_string(str1):\n",
        "  length=len(str1)\n",
        "\n",
        "  if length>2:\n",
        "    if str1[-3:]=='ing':\n",
        "      str1+='ly'\n",
        "    else:\n",
        "      str1+='ing'\n",
        "  return str1\n",
        "print(add_string('ab'))\n",
        "print(add_string('abc'))\n",
        "print(add_string('string'))"
      ]
    }
  ]
}